{
 "cells": [
  {
   "cell_type": "markdown",
   "metadata": {},
   "source": [
    "# Recipes Rating Prediction\n",
    "\n",
    "**Name(s)**: Leica Shen, Zhirui Xia\n",
    "\n",
    "**Website Link**: https://jshen101.github.io/recipes-rating-prediction/"
   ]
  },
  {
   "cell_type": "markdown",
   "metadata": {},
   "source": [
    "## Code"
   ]
  },
  {
   "cell_type": "code",
   "execution_count": 1,
   "metadata": {
    "ExecuteTime": {
     "end_time": "2019-10-31T23:36:28.652554Z",
     "start_time": "2019-10-31T23:36:27.180520Z"
    }
   },
   "outputs": [],
   "source": [
    "import pandas as pd\n",
    "import numpy as np\n",
    "import os\n",
    "from sklearn.linear_model import LogisticRegression, LinearRegression, Ridge, Lasso\n",
    "from sklearn.feature_extraction.text import TfidfVectorizer\n",
    "from sklearn.model_selection import train_test_split, GridSearchCV, cross_val_score, KFold\n",
    "from sklearn.metrics import accuracy_score, classification_report, f1_score\n",
    "from sklearn.preprocessing import StandardScaler\n",
    "from scipy.stats import uniform\n",
    "from sklearn.neighbors import KNeighborsClassifier\n",
    "from sklearn.ensemble import RandomForestClassifier, RandomForestRegressor, BaggingClassifier\n",
    "from sklearn.naive_bayes import MultinomialNB\n",
    "from sklearn.svm import SVR, LinearSVC\n",
    "from sklearn.decomposition import TruncatedSVD\n",
    "from sklearn.preprocessing import OneHotEncoder, PolynomialFeatures\n",
    "from sklearn.tree import DecisionTreeClassifier, DecisionTreeRegressor\n",
    "from sklearn.model_selection import StratifiedKFold\n",
    "from plotly.subplots import make_subplots\n",
    "import plotly.graph_objects as go\n",
    "from sklearn.metrics import confusion_matrix\n",
    "from sklearn.compose import ColumnTransformer\n",
    "from sklearn.pipeline import Pipeline\n",
    "from datetime import datetime\n",
    "from sklearn.base import BaseEstimator, TransformerMixin\n",
    "from sklearn.preprocessing import StandardScaler\n",
    "from textblob import TextBlob\n",
    "from sklearn.preprocessing import MultiLabelBinarizer\n",
    "\n",
    "import plotly.figure_factory as ff\n",
    "import matplotlib.pyplot as plt\n",
    "import plotly.express as px\n",
    "pd.options.plotting.backend = 'plotly'"
   ]
  },
  {
   "cell_type": "markdown",
   "metadata": {},
   "source": [
    "### Framing the Problem"
   ]
  },
  {
   "cell_type": "markdown",
   "metadata": {},
   "source": [
    "- Identify a prediction problem. \n",
    "- Start by performing the same data cleaning you did in Project 3 (copying your code from Project 3 is fine, just include a comment about where you got the code from) and \n",
    "- perform any further data cleaning you may need to solve your problem."
   ]
  },
  {
   "cell_type": "code",
   "execution_count": 2,
   "metadata": {
    "ExecuteTime": {
     "end_time": "2019-10-31T23:36:28.657068Z",
     "start_time": "2019-10-31T23:36:28.654650Z"
    }
   },
   "outputs": [
    {
     "data": {
      "text/html": [
       "<div>\n",
       "<style scoped>\n",
       "    .dataframe tbody tr th:only-of-type {\n",
       "        vertical-align: middle;\n",
       "    }\n",
       "\n",
       "    .dataframe tbody tr th {\n",
       "        vertical-align: top;\n",
       "    }\n",
       "\n",
       "    .dataframe thead th {\n",
       "        text-align: right;\n",
       "    }\n",
       "</style>\n",
       "<table border=\"1\" class=\"dataframe\">\n",
       "  <thead>\n",
       "    <tr style=\"text-align: right;\">\n",
       "      <th></th>\n",
       "      <th>name</th>\n",
       "      <th>id</th>\n",
       "      <th>minutes</th>\n",
       "      <th>contributor_id</th>\n",
       "      <th>submitted</th>\n",
       "      <th>tags</th>\n",
       "      <th>n_steps</th>\n",
       "      <th>steps</th>\n",
       "      <th>description</th>\n",
       "      <th>ingredients</th>\n",
       "      <th>...</th>\n",
       "      <th>rating</th>\n",
       "      <th>review</th>\n",
       "      <th>avg_rating</th>\n",
       "      <th>calories</th>\n",
       "      <th>total_fat</th>\n",
       "      <th>sugar</th>\n",
       "      <th>sodium</th>\n",
       "      <th>protein</th>\n",
       "      <th>saturated_fat</th>\n",
       "      <th>carbohydrates</th>\n",
       "    </tr>\n",
       "  </thead>\n",
       "  <tbody>\n",
       "    <tr>\n",
       "      <th>0</th>\n",
       "      <td>1 brownies in the world    best ever</td>\n",
       "      <td>333281</td>\n",
       "      <td>40</td>\n",
       "      <td>985201</td>\n",
       "      <td>2008-10-27</td>\n",
       "      <td>['60-minutes-or-less', 'time-to-make', 'course...</td>\n",
       "      <td>10</td>\n",
       "      <td>['heat the oven to 350f and arrange the rack i...</td>\n",
       "      <td>these are the most; chocolatey, moist, rich, d...</td>\n",
       "      <td>['bittersweet chocolate', 'unsalted butter', '...</td>\n",
       "      <td>...</td>\n",
       "      <td>4.0</td>\n",
       "      <td>These were pretty good, but took forever to ba...</td>\n",
       "      <td>4.0</td>\n",
       "      <td>138.4</td>\n",
       "      <td>10.0</td>\n",
       "      <td>50.0</td>\n",
       "      <td>3.0</td>\n",
       "      <td>3.0</td>\n",
       "      <td>19.0</td>\n",
       "      <td>6.0</td>\n",
       "    </tr>\n",
       "    <tr>\n",
       "      <th>1</th>\n",
       "      <td>1 in canada chocolate chip cookies</td>\n",
       "      <td>453467</td>\n",
       "      <td>45</td>\n",
       "      <td>1848091</td>\n",
       "      <td>2011-04-11</td>\n",
       "      <td>['60-minutes-or-less', 'time-to-make', 'cuisin...</td>\n",
       "      <td>12</td>\n",
       "      <td>['pre-heat oven the 350 degrees f', 'in a mixi...</td>\n",
       "      <td>this is the recipe that we use at my school ca...</td>\n",
       "      <td>['white sugar', 'brown sugar', 'salt', 'margar...</td>\n",
       "      <td>...</td>\n",
       "      <td>5.0</td>\n",
       "      <td>Originally I was gonna cut the recipe in half ...</td>\n",
       "      <td>5.0</td>\n",
       "      <td>595.1</td>\n",
       "      <td>46.0</td>\n",
       "      <td>211.0</td>\n",
       "      <td>22.0</td>\n",
       "      <td>13.0</td>\n",
       "      <td>51.0</td>\n",
       "      <td>26.0</td>\n",
       "    </tr>\n",
       "    <tr>\n",
       "      <th>2</th>\n",
       "      <td>412 broccoli casserole</td>\n",
       "      <td>306168</td>\n",
       "      <td>40</td>\n",
       "      <td>50969</td>\n",
       "      <td>2008-05-30</td>\n",
       "      <td>['60-minutes-or-less', 'time-to-make', 'course...</td>\n",
       "      <td>6</td>\n",
       "      <td>['preheat oven to 350 degrees', 'spray a 2 qua...</td>\n",
       "      <td>since there are already 411 recipes for brocco...</td>\n",
       "      <td>['frozen broccoli cuts', 'cream of chicken sou...</td>\n",
       "      <td>...</td>\n",
       "      <td>5.0</td>\n",
       "      <td>This was one of the best broccoli casseroles t...</td>\n",
       "      <td>5.0</td>\n",
       "      <td>194.8</td>\n",
       "      <td>20.0</td>\n",
       "      <td>6.0</td>\n",
       "      <td>32.0</td>\n",
       "      <td>22.0</td>\n",
       "      <td>36.0</td>\n",
       "      <td>3.0</td>\n",
       "    </tr>\n",
       "    <tr>\n",
       "      <th>3</th>\n",
       "      <td>412 broccoli casserole</td>\n",
       "      <td>306168</td>\n",
       "      <td>40</td>\n",
       "      <td>50969</td>\n",
       "      <td>2008-05-30</td>\n",
       "      <td>['60-minutes-or-less', 'time-to-make', 'course...</td>\n",
       "      <td>6</td>\n",
       "      <td>['preheat oven to 350 degrees', 'spray a 2 qua...</td>\n",
       "      <td>since there are already 411 recipes for brocco...</td>\n",
       "      <td>['frozen broccoli cuts', 'cream of chicken sou...</td>\n",
       "      <td>...</td>\n",
       "      <td>5.0</td>\n",
       "      <td>I made this for my son's first birthday party ...</td>\n",
       "      <td>5.0</td>\n",
       "      <td>194.8</td>\n",
       "      <td>20.0</td>\n",
       "      <td>6.0</td>\n",
       "      <td>32.0</td>\n",
       "      <td>22.0</td>\n",
       "      <td>36.0</td>\n",
       "      <td>3.0</td>\n",
       "    </tr>\n",
       "    <tr>\n",
       "      <th>4</th>\n",
       "      <td>412 broccoli casserole</td>\n",
       "      <td>306168</td>\n",
       "      <td>40</td>\n",
       "      <td>50969</td>\n",
       "      <td>2008-05-30</td>\n",
       "      <td>['60-minutes-or-less', 'time-to-make', 'course...</td>\n",
       "      <td>6</td>\n",
       "      <td>['preheat oven to 350 degrees', 'spray a 2 qua...</td>\n",
       "      <td>since there are already 411 recipes for brocco...</td>\n",
       "      <td>['frozen broccoli cuts', 'cream of chicken sou...</td>\n",
       "      <td>...</td>\n",
       "      <td>5.0</td>\n",
       "      <td>Loved this.  Be sure to completely thaw the br...</td>\n",
       "      <td>5.0</td>\n",
       "      <td>194.8</td>\n",
       "      <td>20.0</td>\n",
       "      <td>6.0</td>\n",
       "      <td>32.0</td>\n",
       "      <td>22.0</td>\n",
       "      <td>36.0</td>\n",
       "      <td>3.0</td>\n",
       "    </tr>\n",
       "  </tbody>\n",
       "</table>\n",
       "<p>5 rows × 23 columns</p>\n",
       "</div>"
      ],
      "text/plain": [
       "                                   name      id  minutes contributor_id  \\\n",
       "0  1 brownies in the world    best ever  333281       40         985201   \n",
       "1    1 in canada chocolate chip cookies  453467       45        1848091   \n",
       "2                412 broccoli casserole  306168       40          50969   \n",
       "3                412 broccoli casserole  306168       40          50969   \n",
       "4                412 broccoli casserole  306168       40          50969   \n",
       "\n",
       "   submitted                                               tags  n_steps  \\\n",
       "0 2008-10-27  ['60-minutes-or-less', 'time-to-make', 'course...       10   \n",
       "1 2011-04-11  ['60-minutes-or-less', 'time-to-make', 'cuisin...       12   \n",
       "2 2008-05-30  ['60-minutes-or-less', 'time-to-make', 'course...        6   \n",
       "3 2008-05-30  ['60-minutes-or-less', 'time-to-make', 'course...        6   \n",
       "4 2008-05-30  ['60-minutes-or-less', 'time-to-make', 'course...        6   \n",
       "\n",
       "                                               steps  \\\n",
       "0  ['heat the oven to 350f and arrange the rack i...   \n",
       "1  ['pre-heat oven the 350 degrees f', 'in a mixi...   \n",
       "2  ['preheat oven to 350 degrees', 'spray a 2 qua...   \n",
       "3  ['preheat oven to 350 degrees', 'spray a 2 qua...   \n",
       "4  ['preheat oven to 350 degrees', 'spray a 2 qua...   \n",
       "\n",
       "                                         description  \\\n",
       "0  these are the most; chocolatey, moist, rich, d...   \n",
       "1  this is the recipe that we use at my school ca...   \n",
       "2  since there are already 411 recipes for brocco...   \n",
       "3  since there are already 411 recipes for brocco...   \n",
       "4  since there are already 411 recipes for brocco...   \n",
       "\n",
       "                                         ingredients  ...  rating  \\\n",
       "0  ['bittersweet chocolate', 'unsalted butter', '...  ...     4.0   \n",
       "1  ['white sugar', 'brown sugar', 'salt', 'margar...  ...     5.0   \n",
       "2  ['frozen broccoli cuts', 'cream of chicken sou...  ...     5.0   \n",
       "3  ['frozen broccoli cuts', 'cream of chicken sou...  ...     5.0   \n",
       "4  ['frozen broccoli cuts', 'cream of chicken sou...  ...     5.0   \n",
       "\n",
       "                                              review avg_rating  calories  \\\n",
       "0  These were pretty good, but took forever to ba...        4.0     138.4   \n",
       "1  Originally I was gonna cut the recipe in half ...        5.0     595.1   \n",
       "2  This was one of the best broccoli casseroles t...        5.0     194.8   \n",
       "3  I made this for my son's first birthday party ...        5.0     194.8   \n",
       "4  Loved this.  Be sure to completely thaw the br...        5.0     194.8   \n",
       "\n",
       "  total_fat  sugar  sodium  protein  saturated_fat  carbohydrates  \n",
       "0      10.0   50.0     3.0      3.0           19.0            6.0  \n",
       "1      46.0  211.0    22.0     13.0           51.0           26.0  \n",
       "2      20.0    6.0    32.0     22.0           36.0            3.0  \n",
       "3      20.0    6.0    32.0     22.0           36.0            3.0  \n",
       "4      20.0    6.0    32.0     22.0           36.0            3.0  \n",
       "\n",
       "[5 rows x 23 columns]"
      ]
     },
     "execution_count": 2,
     "metadata": {},
     "output_type": "execute_result"
    }
   ],
   "source": [
    "# Data Cleaning, code mostly from Project 3\n",
    "raw_interactions = pd.read_csv('food_data/RAW_interactions.csv')\n",
    "raw_recipes = pd.read_csv('food_data/RAW_recipes.csv')\n",
    "\n",
    "### Left merge the recipes and interactions datasets together.\n",
    "merged = pd.merge(raw_recipes, raw_interactions, left_on='id',right_on='recipe_id',how='left')\n",
    "\n",
    "### Fill all ratings of 0 with np.nan\n",
    "merged['rating'] = merged['rating'].replace(0, np.nan)\n",
    "\n",
    "# Find the average rating per recipe, as a Series.\n",
    "average_ratings = merged.groupby('id')['rating'].mean()\n",
    "average_ratings = average_ratings.rename('avg_rating')\n",
    "\n",
    "# Merge the average rating back to the recipes dataset\n",
    "merged_recipes = merged.merge(average_ratings, on='id')\n",
    "\n",
    "recipes = merged_recipes\n",
    "\n",
    "# convert submitted and date to datetime\n",
    "recipes['submitted'] = pd.to_datetime(recipes['submitted'])\n",
    "recipes['date'] = pd.to_datetime(recipes['date'])\n",
    "\n",
    "# convert categorical data to object\n",
    "recipes['id'] = recipes['id'].astype(str)\n",
    "recipes['contributor_id'] = recipes['contributor_id'].astype(str)\n",
    "recipes['user_id'] = recipes['user_id'].astype(str)\n",
    "recipes['user_id'] = recipes['user_id'].replace('nan', np.nan)\n",
    "\n",
    "# convert nutrition, steps, tags, ingredients to list\n",
    "recipes['nutrition'] = recipes['nutrition'].str.replace('[\\[\\]]', '', regex=True).str.split(', ')\n",
    "recipes['steps'] = recipes['steps'].str.replace('[\\[\\]]', '', regex=True).str.split(', ')\n",
    "recipes['tags'] = recipes['tags'].str.replace('[\\[\\]]', '', regex=True).str.split(', ')\n",
    "recipes['ingredients'] = recipes['ingredients'].str.replace('[\\[\\]]', '', regex=True).str.split(', ')\n",
    "\n",
    "# new columns for infomation in nutrition\n",
    "recipes = recipes.assign(calories=recipes['nutrition'].apply(lambda x: float(x[0])))\n",
    "recipes = recipes.assign(total_fat=recipes['nutrition'].apply(lambda x: float(x[1])))\n",
    "recipes = recipes.assign(sugar=recipes['nutrition'].apply(lambda x: float(x[2])))\n",
    "recipes = recipes.assign(sodium=recipes['nutrition'].apply(lambda x: float(x[3])))\n",
    "recipes = recipes.assign(protein=recipes['nutrition'].apply(lambda x: float(x[4])))\n",
    "recipes = recipes.assign(saturated_fat=recipes['nutrition'].apply(lambda x: float(x[5])))\n",
    "recipes = recipes.assign(carbohydrates=recipes['nutrition'].apply(lambda x: float(x[6])))\n",
    "\n",
    "# drop nutrition column\n",
    "recipes = recipes.drop(columns=['nutrition'])\n",
    "\n",
    "# Drop all rows with no ratings (Nan on right_df when merge on left_df) and reset the index\n",
    "no_rating = recipes['recipe_id'].isna()\n",
    "recipes = recipes[~no_rating].reset_index(drop=True)\n",
    "\n",
    "# Drop all nan rows.\n",
    "recipes = recipes.dropna()\n",
    "\n",
    "# drop repeated columns\n",
    "recipes = recipes.drop(columns=['recipe_id'])\n",
    "recipes.head()"
   ]
  },
  {
   "cell_type": "code",
   "execution_count": 3,
   "metadata": {},
   "outputs": [],
   "source": [
    "# use smaller subset for now, remove later\n",
    "df = recipes#[:60000] "
   ]
  },
  {
   "cell_type": "code",
   "execution_count": 4,
   "metadata": {},
   "outputs": [
    {
     "data": {
      "text/plain": [
       "5.0    169558\n",
       "4.0     37275\n",
       "3.0      7168\n",
       "1.0      2866\n",
       "2.0      2364\n",
       "Name: rating, dtype: int64"
      ]
     },
     "execution_count": 4,
     "metadata": {},
     "output_type": "execute_result"
    }
   ],
   "source": [
    "df['rating'].value_counts() # imbalanced data"
   ]
  },
  {
   "cell_type": "code",
   "execution_count": 5,
   "metadata": {},
   "outputs": [],
   "source": [
    "# Training and testing set split\n",
    "X = df.drop('rating',axis=1)\n",
    "# Due to the imbalance class, we rate 5 vs. others\n",
    "y = df['rating'].apply(lambda x: 1 if x == 5.0 else 0) \n",
    "\n",
    "X_train, X_test, y_train, y_test = train_test_split(X, y, test_size=0.2, random_state=42)"
   ]
  },
  {
   "cell_type": "code",
   "execution_count": 6,
   "metadata": {},
   "outputs": [],
   "source": [
    "### Compute Metric\n",
    "def result(model):\n",
    "    predictions = model.predict(X_train)\n",
    "    train_acc = accuracy_score(y_train, predictions)\n",
    "    predictions = model.predict(X_test)\n",
    "    test_acc = accuracy_score(y_test, predictions)\n",
    "    return train_acc, test_acc\n",
    "\n",
    "def calculate_f1_score(model):\n",
    "    y_pred_test = model.predict(X_test)\n",
    "    test_f1 = f1_score(y_test, y_pred_test, average='weighted')\n",
    "    y_pred_train = model.predict(X_train)\n",
    "    train_f1 = f1_score(y_train, y_pred_train, average='weighted')\n",
    "    return train_f1, test_f1, y_pred_train, y_pred_test"
   ]
  },
  {
   "cell_type": "markdown",
   "metadata": {},
   "source": [
    "### Baseline Model"
   ]
  },
  {
   "cell_type": "code",
   "execution_count": 7,
   "metadata": {},
   "outputs": [
    {
     "name": "stdout",
     "output_type": "stream",
     "text": [
      "F1-score: 0.5438803660981062\n"
     ]
    }
   ],
   "source": [
    "# Random performance \n",
    "predictions = [np.random.choice([0,1]) for _ in range(len(y_test))]\n",
    "print(\"F1-score:\", f1_score(y_test, predictions, average='weighted'))"
   ]
  },
  {
   "cell_type": "code",
   "execution_count": 8,
   "metadata": {},
   "outputs": [
    {
     "name": "stdout",
     "output_type": "stream",
     "text": [
      "F1-score: 0.6717082714547647\n"
     ]
    }
   ],
   "source": [
    "# all 5-star performance\n",
    "predictions = [1 for _ in range(len(y_test))]\n",
    "print(\"F1-score:\", f1_score(y_test, predictions, average='weighted'))"
   ]
  },
  {
   "cell_type": "code",
   "execution_count": 9,
   "metadata": {
    "ExecuteTime": {
     "end_time": "2019-10-31T23:36:28.662099Z",
     "start_time": "2019-10-31T23:36:28.660016Z"
    }
   },
   "outputs": [
    {
     "data": {
      "text/plain": [
       "Pipeline(steps=[('preprocess',\n",
       "                 ColumnTransformer(transformers=[('minutes', StandardScaler(),\n",
       "                                                  ['minutes']),\n",
       "                                                 ('calories', StandardScaler(),\n",
       "                                                  ['calories'])])),\n",
       "                ('classifier', LogisticRegression())])"
      ]
     },
     "execution_count": 9,
     "metadata": {},
     "output_type": "execute_result"
    }
   ],
   "source": [
    "# Baseline only uses calories and minutes\n",
    "preprocessor = ColumnTransformer(\n",
    "    transformers=[\n",
    "        ('minutes', StandardScaler(), ['minutes']),\n",
    "        ('calories', StandardScaler(), ['calories']),\n",
    "    ],\n",
    "    remainder='drop'\n",
    ")\n",
    "\n",
    "pipeline = Pipeline(steps=[\n",
    "    ('preprocess', preprocessor),\n",
    "    ('classifier',LogisticRegression())\n",
    "    # ('classifier', RandomForestClassifier(random_state=42))\n",
    "    # ('classifier',DecisionTreeClassifier(splitter='random'))\n",
    "])\n",
    "\n",
    "pipeline.fit(X_train, y_train)"
   ]
  },
  {
   "cell_type": "code",
   "execution_count": 10,
   "metadata": {},
   "outputs": [
    {
     "name": "stdout",
     "output_type": "stream",
     "text": [
      "Training F1 Score: 0.6753317961120515\n",
      "Testing F1 Score: 0.6717082714547647\n",
      "\n",
      "Classification Report:\n",
      "               precision    recall  f1-score   support\n",
      "\n",
      "           0       0.00      0.00      0.00     39645\n",
      "           1       0.77      1.00      0.87    135739\n",
      "\n",
      "    accuracy                           0.77    175384\n",
      "   macro avg       0.39      0.50      0.44    175384\n",
      "weighted avg       0.60      0.77      0.68    175384\n",
      "\n",
      "\n",
      "Classification Report:\n",
      "               precision    recall  f1-score   support\n",
      "\n",
      "           0       0.00      0.00      0.00     10028\n",
      "           1       0.77      1.00      0.87     33819\n",
      "\n",
      "    accuracy                           0.77     43847\n",
      "   macro avg       0.39      0.50      0.44     43847\n",
      "weighted avg       0.59      0.77      0.67     43847\n",
      "\n",
      "Trainig accuracy: 0.7739531542215937\n",
      "Testing accuracy: 0.7712956416630556\n"
     ]
    },
    {
     "name": "stderr",
     "output_type": "stream",
     "text": [
      "/Users/leica/anaconda3/envs/dsc80/lib/python3.8/site-packages/sklearn/metrics/_classification.py:1318: UndefinedMetricWarning: Precision and F-score are ill-defined and being set to 0.0 in labels with no predicted samples. Use `zero_division` parameter to control this behavior.\n",
      "  _warn_prf(average, modifier, msg_start, len(result))\n",
      "/Users/leica/anaconda3/envs/dsc80/lib/python3.8/site-packages/sklearn/metrics/_classification.py:1318: UndefinedMetricWarning: Precision and F-score are ill-defined and being set to 0.0 in labels with no predicted samples. Use `zero_division` parameter to control this behavior.\n",
      "  _warn_prf(average, modifier, msg_start, len(result))\n",
      "/Users/leica/anaconda3/envs/dsc80/lib/python3.8/site-packages/sklearn/metrics/_classification.py:1318: UndefinedMetricWarning: Precision and F-score are ill-defined and being set to 0.0 in labels with no predicted samples. Use `zero_division` parameter to control this behavior.\n",
      "  _warn_prf(average, modifier, msg_start, len(result))\n",
      "/Users/leica/anaconda3/envs/dsc80/lib/python3.8/site-packages/sklearn/metrics/_classification.py:1318: UndefinedMetricWarning: Precision and F-score are ill-defined and being set to 0.0 in labels with no predicted samples. Use `zero_division` parameter to control this behavior.\n",
      "  _warn_prf(average, modifier, msg_start, len(result))\n",
      "/Users/leica/anaconda3/envs/dsc80/lib/python3.8/site-packages/sklearn/metrics/_classification.py:1318: UndefinedMetricWarning: Precision and F-score are ill-defined and being set to 0.0 in labels with no predicted samples. Use `zero_division` parameter to control this behavior.\n",
      "  _warn_prf(average, modifier, msg_start, len(result))\n",
      "/Users/leica/anaconda3/envs/dsc80/lib/python3.8/site-packages/sklearn/metrics/_classification.py:1318: UndefinedMetricWarning: Precision and F-score are ill-defined and being set to 0.0 in labels with no predicted samples. Use `zero_division` parameter to control this behavior.\n",
      "  _warn_prf(average, modifier, msg_start, len(result))\n"
     ]
    }
   ],
   "source": [
    "# Baseline Results\n",
    "train, test, train_pred, test_pred = calculate_f1_score(pipeline)\n",
    "print(\"Training F1 Score:\", train)\n",
    "print(\"Testing F1 Score:\", test)\n",
    "print(\"\\nClassification Report:\\n\", classification_report(y_train, train_pred))\n",
    "print(\"\\nClassification Report:\\n\", classification_report(y_test, test_pred))\n",
    "\n",
    "train_acc, test_acc = result(pipeline)\n",
    "print(\"Trainig accuracy:\", train_acc)\n",
    "print(\"Testing accuracy:\", test_acc)"
   ]
  },
  {
   "cell_type": "code",
   "execution_count": null,
   "metadata": {},
   "outputs": [],
   "source": []
  },
  {
   "cell_type": "markdown",
   "metadata": {},
   "source": [
    "### Final Model"
   ]
  },
  {
   "cell_type": "code",
   "execution_count": 11,
   "metadata": {
    "ExecuteTime": {
     "end_time": "2019-10-31T23:36:28.662099Z",
     "start_time": "2019-10-31T23:36:28.660016Z"
    }
   },
   "outputs": [],
   "source": [
    "### Transformers\n",
    "class TimeFeaturesExtractor(BaseEstimator, TransformerMixin):\n",
    "    def __init__(self):\n",
    "        pass\n",
    "    def fit(self, X, y=None):\n",
    "        return self\n",
    "    def transform(self, X, y=None):\n",
    "        X['submitted'] = pd.to_datetime(X['submitted'])\n",
    "\n",
    "        # X['year'] = X['submitted'].dt.year\n",
    "        X['month'] = X['submitted'].dt.month\n",
    "        # X['day'] = X['submitted'].dt.day\n",
    "        # X['day_of_week'] = X['submitted'].dt.dayofweek\n",
    "\n",
    "        X['is_weekend'] = X['submitted'].dt.dayofweek >= 5\n",
    "        X = X.drop('submitted', axis=1)\n",
    "        \n",
    "        return X\n",
    "        \n",
    "class TagCountExtractor(BaseEstimator, TransformerMixin):\n",
    "    def fit(self, X, y=None):\n",
    "        return self\n",
    "\n",
    "    def transform(self, X, y=None):\n",
    "        return np.array([len(tags) for tags in X]).reshape(-1, 1)\n",
    "\n",
    "class TagOneHotEncoder(BaseEstimator, TransformerMixin):\n",
    "    def __init__(self):\n",
    "        self.mlb = MultiLabelBinarizer()\n",
    "        self.classes_ = None\n",
    "\n",
    "    def fit(self, X, y=None):\n",
    "        self.mlb.fit(X)\n",
    "        self.classes_ = set(self.mlb.classes_)\n",
    "        return self\n",
    "\n",
    "    def transform(self, X, y=None):\n",
    "        # Filter out unknown tags\n",
    "        X_filtered = []\n",
    "        for tags in X:\n",
    "            known_tags = [tag for tag in tags if tag in self.classes_]\n",
    "            X_filtered.append(known_tags)\n",
    "\n",
    "        return self.mlb.transform(X_filtered)\n",
    "\n",
    "    def get_feature_names(self):\n",
    "        return self.mlb.classes_\n",
    "\n",
    "        \n",
    "def calculate_sentiment_scores(text):\n",
    "    return TextBlob(text).sentiment.polarity\n",
    "    \n",
    "class SentimentExtractor(BaseEstimator, TransformerMixin):\n",
    "    def __init__(self):\n",
    "        pass\n",
    "    \n",
    "    def fit(self, X, y=None):\n",
    "        return self\n",
    "    \n",
    "    def transform(self, X, y=None):\n",
    "        sentiment_scores = X.apply(calculate_sentiment_scores).values.reshape(-1, 1)\n",
    "        return sentiment_scores\n",
    "        \n",
    "class NutritionalDensityExtractor(BaseEstimator, TransformerMixin):\n",
    "    def __init__(self, nutrient, per_calorie=True):\n",
    "        self.nutrient = nutrient\n",
    "        self.per_calorie = per_calorie\n",
    "\n",
    "    def fit(self, X, y=None):\n",
    "        return self\n",
    "\n",
    "    def transform(self, X, y=None):\n",
    "        if self.per_calorie:\n",
    "            density = X[self.nutrient] / X['calories']\n",
    "            density = np.nan_to_num(density)\n",
    "        else:\n",
    "            density = X[self.nutrient]\n",
    "            \n",
    "        return density.reshape(-1, 1)\n"
   ]
  },
  {
   "cell_type": "code",
   "execution_count": 12,
   "metadata": {},
   "outputs": [],
   "source": [
    "### Feature Engineering\n",
    "preprocessor = ColumnTransformer(\n",
    "    transformers=[\n",
    "        ('review', TfidfVectorizer(), 'review'),\n",
    "        ('description', TfidfVectorizer(), 'description'),\n",
    "        ('calories', StandardScaler(), ['calories']), # baseline\n",
    "        ('minutes', StandardScaler(), ['minutes']), # baseline\n",
    "        ('date_features', TimeFeaturesExtractor(), ['submitted']),\n",
    "        ('sentiment', Pipeline([\n",
    "            ('extract', SentimentExtractor()),\n",
    "            ('scale', StandardScaler())\n",
    "        ]), 'review'),\n",
    "        # ('protein_density', NutritionalDensityExtractor('protein'), ['protein', 'calories']),\n",
    "        # ('tag_count', TagCountExtractor(), 'tags'),\n",
    "        # ('tags_ohe', TagOneHotEncoder(), 'tags'),\n",
    "    ],\n",
    "    remainder='drop'\n",
    ")"
   ]
  },
  {
   "cell_type": "code",
   "execution_count": 13,
   "metadata": {},
   "outputs": [
    {
     "name": "stdout",
     "output_type": "stream",
     "text": [
      "Fitting...\n",
      "Fitting 5 folds for each of 5 candidates, totalling 25 fits\n"
     ]
    },
    {
     "name": "stderr",
     "output_type": "stream",
     "text": [
      "/Users/leica/anaconda3/envs/dsc80/lib/python3.8/site-packages/joblib/externals/loky/process_executor.py:752: UserWarning: A worker stopped while some jobs were given to the executor. This can be caused by a too short worker timeout or by a memory leak.\n",
      "  warnings.warn(\n"
     ]
    },
    {
     "name": "stdout",
     "output_type": "stream",
     "text": [
      "Done.\n",
      "\n",
      "Results for Logistic Regression\n",
      "Training F1 Score: 0.8463399411822922\n",
      "Testing F1 Score: 0.8100598242718171\n",
      "\n",
      "Training Classification Report:\n",
      "               precision    recall  f1-score   support\n",
      "\n",
      "           0       0.60      0.85      0.70     39645\n",
      "           1       0.95      0.84      0.89    135739\n",
      "\n",
      "    accuracy                           0.84    175384\n",
      "   macro avg       0.77      0.84      0.80    175384\n",
      "weighted avg       0.87      0.84      0.85    175384\n",
      "\n",
      "\n",
      "Testing Classification Report:\n",
      "               precision    recall  f1-score   support\n",
      "\n",
      "           0       0.55      0.75      0.63     10028\n",
      "           1       0.92      0.81      0.86     33819\n",
      "\n",
      "    accuracy                           0.80     43847\n",
      "   macro avg       0.73      0.78      0.75     43847\n",
      "weighted avg       0.83      0.80      0.81     43847\n",
      "\n",
      "Cross-Validated accuracy: 0.8094251762391395\n",
      "Best hyperparameters: {'classifier': LogisticRegression(C=1, class_weight='balanced', max_iter=1000,\n",
      "                   solver='liblinear'), 'classifier__C': 1}\n"
     ]
    }
   ],
   "source": [
    "### Gridsearch parameters for Logistic Regression\n",
    "\n",
    "## Logistic Regression: Plan to tune C, because it controls the regularization \n",
    "## strength, and a good C could be helpful in finding the right balance to avoid overfitting. \n",
    "param_grid_LR = {\n",
    "    'classifier': [LogisticRegression(solver='liblinear', class_weight='balanced', max_iter=1000)],\n",
    "    'classifier__C': [0.1, 1, 5, 10, 50],\n",
    "}\n",
    "\n",
    "pipeline = Pipeline(steps=[\n",
    "    ('preprocess', preprocessor),\n",
    "    ('classifier', None)\n",
    "])\n",
    "\n",
    "grid_search = GridSearchCV(\n",
    "    pipeline, \n",
    "    param_grid_LR, \n",
    "    cv=5, \n",
    "    scoring='f1_weighted', \n",
    "    return_train_score=True, \n",
    "    n_jobs=-1, \n",
    "    verbose=1\n",
    ")\n",
    "\n",
    "### Main block for fitting the gridsearch\n",
    "print(\"Fitting...\")\n",
    "grid_search.fit(X_train, y_train)\n",
    "print(\"Done.\\n\")\n",
    "\n",
    "LR_best_pipeline = grid_search.best_estimator_\n",
    "LR_best_param = grid_search.best_params_\n",
    "LR_train_f1, LR_test_f1, LR_train_pred, LR_test_pred = calculate_f1_score(LR_best_pipeline)\n",
    "\n",
    "print(\"Results for Logistic Regression\")\n",
    "print(\"Training F1 Score:\", LR_train_f1)\n",
    "print('Testing F1 Score:', LR_test_f1)\n",
    "print(\"\\nTraining Classification Report:\\n\", classification_report(y_train, LR_train_pred))\n",
    "print(\"\\nTesting Classification Report:\\n\", classification_report(y_test, LR_test_pred))\n",
    "print('Cross-Validated accuracy:', grid_search.best_score_)\n",
    "print('Best hyperparameters:', LR_best_param)"
   ]
  },
  {
   "cell_type": "code",
   "execution_count": 14,
   "metadata": {},
   "outputs": [],
   "source": [
    "y_pred = LR_best_pipeline.predict(X_test)\n",
    "conf_matrix = confusion_matrix(y_test, y_pred)"
   ]
  },
  {
   "cell_type": "code",
   "execution_count": 15,
   "metadata": {},
   "outputs": [
    {
     "name": "stdout",
     "output_type": "stream",
     "text": [
      "Confusion Matrix:\n",
      "[[ 7569  2459]\n",
      " [ 6311 27508]]\n"
     ]
    }
   ],
   "source": [
    "print(\"Confusion Matrix:\")\n",
    "print(conf_matrix)"
   ]
  },
  {
   "cell_type": "code",
   "execution_count": 16,
   "metadata": {},
   "outputs": [
    {
     "data": {
      "text/plain": [
       "Text(0.5, 1.0, 'confusion matrix with count')"
      ]
     },
     "execution_count": 16,
     "metadata": {},
     "output_type": "execute_result"
    },
    {
     "data": {
      "image/png": "[encoded data removed]",
      "text/plain": [
       "<Figure size 640x480 with 2 Axes>"
      ]
     },
     "metadata": {},
     "output_type": "display_data"
    }
   ],
   "source": [
    "from sklearn.metrics import ConfusionMatrixDisplay\n",
    "ConfusionMatrixDisplay.from_estimator(LR_best_pipeline, X_test, y_test)\n",
    "plt.grid(False)\n",
    "plt.title('confusion matrix with count')"
   ]
  },
  {
   "cell_type": "code",
   "execution_count": 17,
   "metadata": {},
   "outputs": [
    {
     "data": {
      "application/vnd.plotly.v1+json": {
       "config": {
        "plotlyServerURL": "https://plot.ly"
       },
       "data": [
        {
         "coloraxis": "coloraxis",
         "hovertemplate": "Predicted: %{x}<br>Actual: %{y}<br>Count: %{z}<extra></extra>",
         "name": "0",
         "type": "heatmap",
         "x": [
          "Non-5-stars",
          "5-stars"
         ],
         "xaxis": "x",
         "y": [
          "Non-5-stars",
          "5-stars"
         ],
         "yaxis": "y",
         "z": [
          [
           7569,
           2459
          ],
          [
           6311,
           27508
          ]
         ]
        }
       ],
       "layout": {
        "coloraxis": {
         "colorbar": {
          "title": {
           "text": "Count"
          }
         },
         "colorscale": [
          [
           0,
           "rgb(247,251,255)"
          ],
          [
           0.125,
           "rgb(222,235,247)"
          ],
          [
           0.25,
           "rgb(198,219,239)"
          ],
          [
           0.375,
           "rgb(158,202,225)"
          ],
          [
           0.5,
           "rgb(107,174,214)"
          ],
          [
           0.625,
           "rgb(66,146,198)"
          ],
          [
           0.75,
           "rgb(33,113,181)"
          ],
          [
           0.875,
           "rgb(8,81,156)"
          ],
          [
           1,
           "rgb(8,48,107)"
          ]
         ]
        },
        "margin": {
         "t": 60
        },
        "template": {
         "data": {
          "bar": [
           {
            "error_x": {
             "color": "#2a3f5f"
            },
            "error_y": {
             "color": "#2a3f5f"
            },
            "marker": {
             "line": {
              "color": "#E5ECF6",
              "width": 0.5
             },
             "pattern": {
              "fillmode": "overlay",
              "size": 10,
              "solidity": 0.2
             }
            },
            "type": "bar"
           }
          ],
          "barpolar": [
           {
            "marker": {
             "line": {
              "color": "#E5ECF6",
              "width": 0.5
             },
             "pattern": {
              "fillmode": "overlay",
              "size": 10,
              "solidity": 0.2
             }
            },
            "type": "barpolar"
           }
          ],
          "carpet": [
           {
            "aaxis": {
             "endlinecolor": "#2a3f5f",
             "gridcolor": "white",
             "linecolor": "white",
             "minorgridcolor": "white",
             "startlinecolor": "#2a3f5f"
            },
            "baxis": {
             "endlinecolor": "#2a3f5f",
             "gridcolor": "white",
             "linecolor": "white",
             "minorgridcolor": "white",
             "startlinecolor": "#2a3f5f"
            },
            "type": "carpet"
           }
          ],
          "choropleth": [
           {
            "colorbar": {
             "outlinewidth": 0,
             "ticks": ""
            },
            "type": "choropleth"
           }
          ],
          "contour": [
           {
            "colorbar": {
             "outlinewidth": 0,
             "ticks": ""
            },
            "colorscale": [
             [
              0,
              "#0d0887"
             ],
             [
              0.1111111111111111,
              "#46039f"
             ],
             [
              0.2222222222222222,
              "#7201a8"
             ],
             [
              0.3333333333333333,
              "#9c179e"
             ],
             [
              0.4444444444444444,
              "#bd3786"
             ],
             [
              0.5555555555555556,
              "#d8576b"
             ],
             [
              0.6666666666666666,
              "#ed7953"
             ],
             [
              0.7777777777777778,
              "#fb9f3a"
             ],
             [
              0.8888888888888888,
              "#fdca26"
             ],
             [
              1,
              "#f0f921"
             ]
            ],
            "type": "contour"
           }
          ],
          "contourcarpet": [
           {
            "colorbar": {
             "outlinewidth": 0,
             "ticks": ""
            },
            "type": "contourcarpet"
           }
          ],
          "heatmap": [
           {
            "colorbar": {
             "outlinewidth": 0,
             "ticks": ""
            },
            "colorscale": [
             [
              0,
              "#0d0887"
             ],
             [
              0.1111111111111111,
              "#46039f"
             ],
             [
              0.2222222222222222,
              "#7201a8"
             ],
             [
              0.3333333333333333,
              "#9c179e"
             ],
             [
              0.4444444444444444,
              "#bd3786"
             ],
             [
              0.5555555555555556,
              "#d8576b"
             ],
             [
              0.6666666666666666,
              "#ed7953"
             ],
             [
              0.7777777777777778,
              "#fb9f3a"
             ],
             [
              0.8888888888888888,
              "#fdca26"
             ],
             [
              1,
              "#f0f921"
             ]
            ],
            "type": "heatmap"
           }
          ],
          "heatmapgl": [
           {
            "colorbar": {
             "outlinewidth": 0,
             "ticks": ""
            },
            "colorscale": [
             [
              0,
              "#0d0887"
             ],
             [
              0.1111111111111111,
              "#46039f"
             ],
             [
              0.2222222222222222,
              "#7201a8"
             ],
             [
              0.3333333333333333,
              "#9c179e"
             ],
             [
              0.4444444444444444,
              "#bd3786"
             ],
             [
              0.5555555555555556,
              "#d8576b"
             ],
             [
              0.6666666666666666,
              "#ed7953"
             ],
             [
              0.7777777777777778,
              "#fb9f3a"
             ],
             [
              0.8888888888888888,
              "#fdca26"
             ],
             [
              1,
              "#f0f921"
             ]
            ],
            "type": "heatmapgl"
           }
          ],
          "histogram": [
           {
            "marker": {
             "pattern": {
              "fillmode": "overlay",
              "size": 10,
              "solidity": 0.2
             }
            },
            "type": "histogram"
           }
          ],
          "histogram2d": [
           {
            "colorbar": {
             "outlinewidth": 0,
             "ticks": ""
            },
            "colorscale": [
             [
              0,
              "#0d0887"
             ],
             [
              0.1111111111111111,
              "#46039f"
             ],
             [
              0.2222222222222222,
              "#7201a8"
             ],
             [
              0.3333333333333333,
              "#9c179e"
             ],
             [
              0.4444444444444444,
              "#bd3786"
             ],
             [
              0.5555555555555556,
              "#d8576b"
             ],
             [
              0.6666666666666666,
              "#ed7953"
             ],
             [
              0.7777777777777778,
              "#fb9f3a"
             ],
             [
              0.8888888888888888,
              "#fdca26"
             ],
             [
              1,
              "#f0f921"
             ]
            ],
            "type": "histogram2d"
           }
          ],
          "histogram2dcontour": [
           {
            "colorbar": {
             "outlinewidth": 0,
             "ticks": ""
            },
            "colorscale": [
             [
              0,
              "#0d0887"
             ],
             [
              0.1111111111111111,
              "#46039f"
             ],
             [
              0.2222222222222222,
              "#7201a8"
             ],
             [
              0.3333333333333333,
              "#9c179e"
             ],
             [
              0.4444444444444444,
              "#bd3786"
             ],
             [
              0.5555555555555556,
              "#d8576b"
             ],
             [
              0.6666666666666666,
              "#ed7953"
             ],
             [
              0.7777777777777778,
              "#fb9f3a"
             ],
             [
              0.8888888888888888,
              "#fdca26"
             ],
             [
              1,
              "#f0f921"
             ]
            ],
            "type": "histogram2dcontour"
           }
          ],
          "mesh3d": [
           {
            "colorbar": {
             "outlinewidth": 0,
             "ticks": ""
            },
            "type": "mesh3d"
           }
          ],
          "parcoords": [
           {
            "line": {
             "colorbar": {
              "outlinewidth": 0,
              "ticks": ""
             }
            },
            "type": "parcoords"
           }
          ],
          "pie": [
           {
            "automargin": true,
            "type": "pie"
           }
          ],
          "scatter": [
           {
            "fillpattern": {
             "fillmode": "overlay",
             "size": 10,
             "solidity": 0.2
            },
            "type": "scatter"
           }
          ],
          "scatter3d": [
           {
            "line": {
             "colorbar": {
              "outlinewidth": 0,
              "ticks": ""
             }
            },
            "marker": {
             "colorbar": {
              "outlinewidth": 0,
              "ticks": ""
             }
            },
            "type": "scatter3d"
           }
          ],
          "scattercarpet": [
           {
            "marker": {
             "colorbar": {
              "outlinewidth": 0,
              "ticks": ""
             }
            },
            "type": "scattercarpet"
           }
          ],
          "scattergeo": [
           {
            "marker": {
             "colorbar": {
              "outlinewidth": 0,
              "ticks": ""
             }
            },
            "type": "scattergeo"
           }
          ],
          "scattergl": [
           {
            "marker": {
             "colorbar": {
              "outlinewidth": 0,
              "ticks": ""
             }
            },
            "type": "scattergl"
           }
          ],
          "scattermapbox": [
           {
            "marker": {
             "colorbar": {
              "outlinewidth": 0,
              "ticks": ""
             }
            },
            "type": "scattermapbox"
           }
          ],
          "scatterpolar": [
           {
            "marker": {
             "colorbar": {
              "outlinewidth": 0,
              "ticks": ""
             }
            },
            "type": "scatterpolar"
           }
          ],
          "scatterpolargl": [
           {
            "marker": {
             "colorbar": {
              "outlinewidth": 0,
              "ticks": ""
             }
            },
            "type": "scatterpolargl"
           }
          ],
          "scatterternary": [
           {
            "marker": {
             "colorbar": {
              "outlinewidth": 0,
              "ticks": ""
             }
            },
            "type": "scatterternary"
           }
          ],
          "surface": [
           {
            "colorbar": {
             "outlinewidth": 0,
             "ticks": ""
            },
            "colorscale": [
             [
              0,
              "#0d0887"
             ],
             [
              0.1111111111111111,
              "#46039f"
             ],
             [
              0.2222222222222222,
              "#7201a8"
             ],
             [
              0.3333333333333333,
              "#9c179e"
             ],
             [
              0.4444444444444444,
              "#bd3786"
             ],
             [
              0.5555555555555556,
              "#d8576b"
             ],
             [
              0.6666666666666666,
              "#ed7953"
             ],
             [
              0.7777777777777778,
              "#fb9f3a"
             ],
             [
              0.8888888888888888,
              "#fdca26"
             ],
             [
              1,
              "#f0f921"
             ]
            ],
            "type": "surface"
           }
          ],
          "table": [
           {
            "cells": {
             "fill": {
              "color": "#EBF0F8"
             },
             "line": {
              "color": "white"
             }
            },
            "header": {
             "fill": {
              "color": "#C8D4E3"
             },
             "line": {
              "color": "white"
             }
            },
            "type": "table"
           }
          ]
         },
         "layout": {
          "annotationdefaults": {
           "arrowcolor": "#2a3f5f",
           "arrowhead": 0,
           "arrowwidth": 1
          },
          "autotypenumbers": "strict",
          "coloraxis": {
           "colorbar": {
            "outlinewidth": 0,
            "ticks": ""
           }
          },
          "colorscale": {
           "diverging": [
            [
             0,
             "#8e0152"
            ],
            [
             0.1,
             "#c51b7d"
            ],
            [
             0.2,
             "#de77ae"
            ],
            [
             0.3,
             "#f1b6da"
            ],
            [
             0.4,
             "#fde0ef"
            ],
            [
             0.5,
             "#f7f7f7"
            ],
            [
             0.6,
             "#e6f5d0"
            ],
            [
             0.7,
             "#b8e186"
            ],
            [
             0.8,
             "#7fbc41"
            ],
            [
             0.9,
             "#4d9221"
            ],
            [
             1,
             "#276419"
            ]
           ],
           "sequential": [
            [
             0,
             "#0d0887"
            ],
            [
             0.1111111111111111,
             "#46039f"
            ],
            [
             0.2222222222222222,
             "#7201a8"
            ],
            [
             0.3333333333333333,
             "#9c179e"
            ],
            [
             0.4444444444444444,
             "#bd3786"
            ],
            [
             0.5555555555555556,
             "#d8576b"
            ],
            [
             0.6666666666666666,
             "#ed7953"
            ],
            [
             0.7777777777777778,
             "#fb9f3a"
            ],
            [
             0.8888888888888888,
             "#fdca26"
            ],
            [
             1,
             "#f0f921"
            ]
           ],
           "sequentialminus": [
            [
             0,
             "#0d0887"
            ],
            [
             0.1111111111111111,
             "#46039f"
            ],
            [
             0.2222222222222222,
             "#7201a8"
            ],
            [
             0.3333333333333333,
             "#9c179e"
            ],
            [
             0.4444444444444444,
             "#bd3786"
            ],
            [
             0.5555555555555556,
             "#d8576b"
            ],
            [
             0.6666666666666666,
             "#ed7953"
            ],
            [
             0.7777777777777778,
             "#fb9f3a"
            ],
            [
             0.8888888888888888,
             "#fdca26"
            ],
            [
             1,
             "#f0f921"
            ]
           ]
          },
          "colorway": [
           "#636efa",
           "#EF553B",
           "#00cc96",
           "#ab63fa",
           "#FFA15A",
           "#19d3f3",
           "#FF6692",
           "#B6E880",
           "#FF97FF",
           "#FECB52"
          ],
          "font": {
           "color": "#2a3f5f"
          },
          "geo": {
           "bgcolor": "white",
           "lakecolor": "white",
           "landcolor": "#E5ECF6",
           "showlakes": true,
           "showland": true,
           "subunitcolor": "white"
          },
          "hoverlabel": {
           "align": "left"
          },
          "hovermode": "closest",
          "mapbox": {
           "style": "light"
          },
          "paper_bgcolor": "white",
          "plot_bgcolor": "#E5ECF6",
          "polar": {
           "angularaxis": {
            "gridcolor": "white",
            "linecolor": "white",
            "ticks": ""
           },
           "bgcolor": "#E5ECF6",
           "radialaxis": {
            "gridcolor": "white",
            "linecolor": "white",
            "ticks": ""
           }
          },
          "scene": {
           "xaxis": {
            "backgroundcolor": "#E5ECF6",
            "gridcolor": "white",
            "gridwidth": 2,
            "linecolor": "white",
            "showbackground": true,
            "ticks": "",
            "zerolinecolor": "white"
           },
           "yaxis": {
            "backgroundcolor": "#E5ECF6",
            "gridcolor": "white",
            "gridwidth": 2,
            "linecolor": "white",
            "showbackground": true,
            "ticks": "",
            "zerolinecolor": "white"
           },
           "zaxis": {
            "backgroundcolor": "#E5ECF6",
            "gridcolor": "white",
            "gridwidth": 2,
            "linecolor": "white",
            "showbackground": true,
            "ticks": "",
            "zerolinecolor": "white"
           }
          },
          "shapedefaults": {
           "line": {
            "color": "#2a3f5f"
           }
          },
          "ternary": {
           "aaxis": {
            "gridcolor": "white",
            "linecolor": "white",
            "ticks": ""
           },
           "baxis": {
            "gridcolor": "white",
            "linecolor": "white",
            "ticks": ""
           },
           "bgcolor": "#E5ECF6",
           "caxis": {
            "gridcolor": "white",
            "linecolor": "white",
            "ticks": ""
           }
          },
          "title": {
           "x": 0.05
          },
          "xaxis": {
           "automargin": true,
           "gridcolor": "white",
           "linecolor": "white",
           "ticks": "",
           "title": {
            "standoff": 15
           },
           "zerolinecolor": "white",
           "zerolinewidth": 2
          },
          "yaxis": {
           "automargin": true,
           "gridcolor": "white",
           "linecolor": "white",
           "ticks": "",
           "title": {
            "standoff": 15
           },
           "zerolinecolor": "white",
           "zerolinewidth": 2
          }
         }
        },
        "title": {
         "text": "Confusion Matrix w/o showing count",
         "x": 0.5
        },
        "xaxis": {
         "anchor": "y",
         "constrain": "domain",
         "domain": [
          0,
          1
         ],
         "scaleanchor": "y",
         "title": {
          "text": "Predicted"
         }
        },
        "yaxis": {
         "anchor": "x",
         "autorange": "reversed",
         "constrain": "domain",
         "domain": [
          0,
          1
         ],
         "title": {
          "text": "Actual"
         }
        }
       }
      }
     },
     "metadata": {},
     "output_type": "display_data"
    }
   ],
   "source": [
    "# visualization\n",
    "labels = ['Non-5-stars', '5-stars', 'Non-5-stars', '5-stars']\n",
    "confusion_df = pd.DataFrame(conf_matrix, index=labels[:2], columns=labels[2:])\n",
    "# Plot the confusion matrix using heatmap\n",
    "fig = px.imshow(conf_matrix, \n",
    "                labels=dict(x=\"Predicted\", y=\"Actual\", color=\"Count\"), \n",
    "                x=confusion_df.columns, \n",
    "                y=confusion_df.index,\n",
    "                color_continuous_scale='Blues')\n",
    "fig.update_layout(title_text='Confusion Matrix w/o showing count', title_x=0.5)\n",
    "fig.show()"
   ]
  },
  {
   "cell_type": "code",
   "execution_count": 18,
   "metadata": {},
   "outputs": [
    {
     "data": {
      "application/vnd.plotly.v1+json": {
       "config": {
        "plotlyServerURL": "https://plot.ly"
       },
       "data": [
        {
         "colorscale": [
          [
           0,
           "#0d0887"
          ],
          [
           0.1111111111111111,
           "#46039f"
          ],
          [
           0.2222222222222222,
           "#7201a8"
          ],
          [
           0.3333333333333333,
           "#9c179e"
          ],
          [
           0.4444444444444444,
           "#bd3786"
          ],
          [
           0.5555555555555556,
           "#d8576b"
          ],
          [
           0.6666666666666666,
           "#ed7953"
          ],
          [
           0.7777777777777778,
           "#fb9f3a"
          ],
          [
           0.8888888888888888,
           "#fdca26"
          ],
          [
           1,
           "#f0f921"
          ]
         ],
         "reversescale": false,
         "showscale": true,
         "type": "heatmap",
         "x": [
          "Predicted Non-5-stars",
          "Predicted 5-stars"
         ],
         "y": [
          "Actual Non-5-stars",
          "Actual 5-stars"
         ],
         "z": [
          [
           7569,
           2459
          ],
          [
           6311,
           27508
          ]
         ]
        }
       ],
       "layout": {
        "annotations": [
         {
          "font": {
           "color": "#FFFFFF"
          },
          "showarrow": false,
          "text": "7569",
          "x": "Predicted Non-5-stars",
          "xref": "x",
          "y": "Actual Non-5-stars",
          "yref": "y"
         },
         {
          "font": {
           "color": "#FFFFFF"
          },
          "showarrow": false,
          "text": "2459",
          "x": "Predicted 5-stars",
          "xref": "x",
          "y": "Actual Non-5-stars",
          "yref": "y"
         },
         {
          "font": {
           "color": "#FFFFFF"
          },
          "showarrow": false,
          "text": "6311",
          "x": "Predicted Non-5-stars",
          "xref": "x",
          "y": "Actual 5-stars",
          "yref": "y"
         },
         {
          "font": {
           "color": "#000000"
          },
          "showarrow": false,
          "text": "27508",
          "x": "Predicted 5-stars",
          "xref": "x",
          "y": "Actual 5-stars",
          "yref": "y"
         }
        ],
        "template": {
         "data": {
          "bar": [
           {
            "error_x": {
             "color": "#2a3f5f"
            },
            "error_y": {
             "color": "#2a3f5f"
            },
            "marker": {
             "line": {
              "color": "#E5ECF6",
              "width": 0.5
             },
             "pattern": {
              "fillmode": "overlay",
              "size": 10,
              "solidity": 0.2
             }
            },
            "type": "bar"
           }
          ],
          "barpolar": [
           {
            "marker": {
             "line": {
              "color": "#E5ECF6",
              "width": 0.5
             },
             "pattern": {
              "fillmode": "overlay",
              "size": 10,
              "solidity": 0.2
             }
            },
            "type": "barpolar"
           }
          ],
          "carpet": [
           {
            "aaxis": {
             "endlinecolor": "#2a3f5f",
             "gridcolor": "white",
             "linecolor": "white",
             "minorgridcolor": "white",
             "startlinecolor": "#2a3f5f"
            },
            "baxis": {
             "endlinecolor": "#2a3f5f",
             "gridcolor": "white",
             "linecolor": "white",
             "minorgridcolor": "white",
             "startlinecolor": "#2a3f5f"
            },
            "type": "carpet"
           }
          ],
          "choropleth": [
           {
            "colorbar": {
             "outlinewidth": 0,
             "ticks": ""
            },
            "type": "choropleth"
           }
          ],
          "contour": [
           {
            "colorbar": {
             "outlinewidth": 0,
             "ticks": ""
            },
            "colorscale": [
             [
              0,
              "#0d0887"
             ],
             [
              0.1111111111111111,
              "#46039f"
             ],
             [
              0.2222222222222222,
              "#7201a8"
             ],
             [
              0.3333333333333333,
              "#9c179e"
             ],
             [
              0.4444444444444444,
              "#bd3786"
             ],
             [
              0.5555555555555556,
              "#d8576b"
             ],
             [
              0.6666666666666666,
              "#ed7953"
             ],
             [
              0.7777777777777778,
              "#fb9f3a"
             ],
             [
              0.8888888888888888,
              "#fdca26"
             ],
             [
              1,
              "#f0f921"
             ]
            ],
            "type": "contour"
           }
          ],
          "contourcarpet": [
           {
            "colorbar": {
             "outlinewidth": 0,
             "ticks": ""
            },
            "type": "contourcarpet"
           }
          ],
          "heatmap": [
           {
            "colorbar": {
             "outlinewidth": 0,
             "ticks": ""
            },
            "colorscale": [
             [
              0,
              "#0d0887"
             ],
             [
              0.1111111111111111,
              "#46039f"
             ],
             [
              0.2222222222222222,
              "#7201a8"
             ],
             [
              0.3333333333333333,
              "#9c179e"
             ],
             [
              0.4444444444444444,
              "#bd3786"
             ],
             [
              0.5555555555555556,
              "#d8576b"
             ],
             [
              0.6666666666666666,
              "#ed7953"
             ],
             [
              0.7777777777777778,
              "#fb9f3a"
             ],
             [
              0.8888888888888888,
              "#fdca26"
             ],
             [
              1,
              "#f0f921"
             ]
            ],
            "type": "heatmap"
           }
          ],
          "heatmapgl": [
           {
            "colorbar": {
             "outlinewidth": 0,
             "ticks": ""
            },
            "colorscale": [
             [
              0,
              "#0d0887"
             ],
             [
              0.1111111111111111,
              "#46039f"
             ],
             [
              0.2222222222222222,
              "#7201a8"
             ],
             [
              0.3333333333333333,
              "#9c179e"
             ],
             [
              0.4444444444444444,
              "#bd3786"
             ],
             [
              0.5555555555555556,
              "#d8576b"
             ],
             [
              0.6666666666666666,
              "#ed7953"
             ],
             [
              0.7777777777777778,
              "#fb9f3a"
             ],
             [
              0.8888888888888888,
              "#fdca26"
             ],
             [
              1,
              "#f0f921"
             ]
            ],
            "type": "heatmapgl"
           }
          ],
          "histogram": [
           {
            "marker": {
             "pattern": {
              "fillmode": "overlay",
              "size": 10,
              "solidity": 0.2
             }
            },
            "type": "histogram"
           }
          ],
          "histogram2d": [
           {
            "colorbar": {
             "outlinewidth": 0,
             "ticks": ""
            },
            "colorscale": [
             [
              0,
              "#0d0887"
             ],
             [
              0.1111111111111111,
              "#46039f"
             ],
             [
              0.2222222222222222,
              "#7201a8"
             ],
             [
              0.3333333333333333,
              "#9c179e"
             ],
             [
              0.4444444444444444,
              "#bd3786"
             ],
             [
              0.5555555555555556,
              "#d8576b"
             ],
             [
              0.6666666666666666,
              "#ed7953"
             ],
             [
              0.7777777777777778,
              "#fb9f3a"
             ],
             [
              0.8888888888888888,
              "#fdca26"
             ],
             [
              1,
              "#f0f921"
             ]
            ],
            "type": "histogram2d"
           }
          ],
          "histogram2dcontour": [
           {
            "colorbar": {
             "outlinewidth": 0,
             "ticks": ""
            },
            "colorscale": [
             [
              0,
              "#0d0887"
             ],
             [
              0.1111111111111111,
              "#46039f"
             ],
             [
              0.2222222222222222,
              "#7201a8"
             ],
             [
              0.3333333333333333,
              "#9c179e"
             ],
             [
              0.4444444444444444,
              "#bd3786"
             ],
             [
              0.5555555555555556,
              "#d8576b"
             ],
             [
              0.6666666666666666,
              "#ed7953"
             ],
             [
              0.7777777777777778,
              "#fb9f3a"
             ],
             [
              0.8888888888888888,
              "#fdca26"
             ],
             [
              1,
              "#f0f921"
             ]
            ],
            "type": "histogram2dcontour"
           }
          ],
          "mesh3d": [
           {
            "colorbar": {
             "outlinewidth": 0,
             "ticks": ""
            },
            "type": "mesh3d"
           }
          ],
          "parcoords": [
           {
            "line": {
             "colorbar": {
              "outlinewidth": 0,
              "ticks": ""
             }
            },
            "type": "parcoords"
           }
          ],
          "pie": [
           {
            "automargin": true,
            "type": "pie"
           }
          ],
          "scatter": [
           {
            "fillpattern": {
             "fillmode": "overlay",
             "size": 10,
             "solidity": 0.2
            },
            "type": "scatter"
           }
          ],
          "scatter3d": [
           {
            "line": {
             "colorbar": {
              "outlinewidth": 0,
              "ticks": ""
             }
            },
            "marker": {
             "colorbar": {
              "outlinewidth": 0,
              "ticks": ""
             }
            },
            "type": "scatter3d"
           }
          ],
          "scattercarpet": [
           {
            "marker": {
             "colorbar": {
              "outlinewidth": 0,
              "ticks": ""
             }
            },
            "type": "scattercarpet"
           }
          ],
          "scattergeo": [
           {
            "marker": {
             "colorbar": {
              "outlinewidth": 0,
              "ticks": ""
             }
            },
            "type": "scattergeo"
           }
          ],
          "scattergl": [
           {
            "marker": {
             "colorbar": {
              "outlinewidth": 0,
              "ticks": ""
             }
            },
            "type": "scattergl"
           }
          ],
          "scattermapbox": [
           {
            "marker": {
             "colorbar": {
              "outlinewidth": 0,
              "ticks": ""
             }
            },
            "type": "scattermapbox"
           }
          ],
          "scatterpolar": [
           {
            "marker": {
             "colorbar": {
              "outlinewidth": 0,
              "ticks": ""
             }
            },
            "type": "scatterpolar"
           }
          ],
          "scatterpolargl": [
           {
            "marker": {
             "colorbar": {
              "outlinewidth": 0,
              "ticks": ""
             }
            },
            "type": "scatterpolargl"
           }
          ],
          "scatterternary": [
           {
            "marker": {
             "colorbar": {
              "outlinewidth": 0,
              "ticks": ""
             }
            },
            "type": "scatterternary"
           }
          ],
          "surface": [
           {
            "colorbar": {
             "outlinewidth": 0,
             "ticks": ""
            },
            "colorscale": [
             [
              0,
              "#0d0887"
             ],
             [
              0.1111111111111111,
              "#46039f"
             ],
             [
              0.2222222222222222,
              "#7201a8"
             ],
             [
              0.3333333333333333,
              "#9c179e"
             ],
             [
              0.4444444444444444,
              "#bd3786"
             ],
             [
              0.5555555555555556,
              "#d8576b"
             ],
             [
              0.6666666666666666,
              "#ed7953"
             ],
             [
              0.7777777777777778,
              "#fb9f3a"
             ],
             [
              0.8888888888888888,
              "#fdca26"
             ],
             [
              1,
              "#f0f921"
             ]
            ],
            "type": "surface"
           }
          ],
          "table": [
           {
            "cells": {
             "fill": {
              "color": "#EBF0F8"
             },
             "line": {
              "color": "white"
             }
            },
            "header": {
             "fill": {
              "color": "#C8D4E3"
             },
             "line": {
              "color": "white"
             }
            },
            "type": "table"
           }
          ]
         },
         "layout": {
          "annotationdefaults": {
           "arrowcolor": "#2a3f5f",
           "arrowhead": 0,
           "arrowwidth": 1
          },
          "autotypenumbers": "strict",
          "coloraxis": {
           "colorbar": {
            "outlinewidth": 0,
            "ticks": ""
           }
          },
          "colorscale": {
           "diverging": [
            [
             0,
             "#8e0152"
            ],
            [
             0.1,
             "#c51b7d"
            ],
            [
             0.2,
             "#de77ae"
            ],
            [
             0.3,
             "#f1b6da"
            ],
            [
             0.4,
             "#fde0ef"
            ],
            [
             0.5,
             "#f7f7f7"
            ],
            [
             0.6,
             "#e6f5d0"
            ],
            [
             0.7,
             "#b8e186"
            ],
            [
             0.8,
             "#7fbc41"
            ],
            [
             0.9,
             "#4d9221"
            ],
            [
             1,
             "#276419"
            ]
           ],
           "sequential": [
            [
             0,
             "#0d0887"
            ],
            [
             0.1111111111111111,
             "#46039f"
            ],
            [
             0.2222222222222222,
             "#7201a8"
            ],
            [
             0.3333333333333333,
             "#9c179e"
            ],
            [
             0.4444444444444444,
             "#bd3786"
            ],
            [
             0.5555555555555556,
             "#d8576b"
            ],
            [
             0.6666666666666666,
             "#ed7953"
            ],
            [
             0.7777777777777778,
             "#fb9f3a"
            ],
            [
             0.8888888888888888,
             "#fdca26"
            ],
            [
             1,
             "#f0f921"
            ]
           ],
           "sequentialminus": [
            [
             0,
             "#0d0887"
            ],
            [
             0.1111111111111111,
             "#46039f"
            ],
            [
             0.2222222222222222,
             "#7201a8"
            ],
            [
             0.3333333333333333,
             "#9c179e"
            ],
            [
             0.4444444444444444,
             "#bd3786"
            ],
            [
             0.5555555555555556,
             "#d8576b"
            ],
            [
             0.6666666666666666,
             "#ed7953"
            ],
            [
             0.7777777777777778,
             "#fb9f3a"
            ],
            [
             0.8888888888888888,
             "#fdca26"
            ],
            [
             1,
             "#f0f921"
            ]
           ]
          },
          "colorway": [
           "#636efa",
           "#EF553B",
           "#00cc96",
           "#ab63fa",
           "#FFA15A",
           "#19d3f3",
           "#FF6692",
           "#B6E880",
           "#FF97FF",
           "#FECB52"
          ],
          "font": {
           "color": "#2a3f5f"
          },
          "geo": {
           "bgcolor": "white",
           "lakecolor": "white",
           "landcolor": "#E5ECF6",
           "showlakes": true,
           "showland": true,
           "subunitcolor": "white"
          },
          "hoverlabel": {
           "align": "left"
          },
          "hovermode": "closest",
          "mapbox": {
           "style": "light"
          },
          "paper_bgcolor": "white",
          "plot_bgcolor": "#E5ECF6",
          "polar": {
           "angularaxis": {
            "gridcolor": "white",
            "linecolor": "white",
            "ticks": ""
           },
           "bgcolor": "#E5ECF6",
           "radialaxis": {
            "gridcolor": "white",
            "linecolor": "white",
            "ticks": ""
           }
          },
          "scene": {
           "xaxis": {
            "backgroundcolor": "#E5ECF6",
            "gridcolor": "white",
            "gridwidth": 2,
            "linecolor": "white",
            "showbackground": true,
            "ticks": "",
            "zerolinecolor": "white"
           },
           "yaxis": {
            "backgroundcolor": "#E5ECF6",
            "gridcolor": "white",
            "gridwidth": 2,
            "linecolor": "white",
            "showbackground": true,
            "ticks": "",
            "zerolinecolor": "white"
           },
           "zaxis": {
            "backgroundcolor": "#E5ECF6",
            "gridcolor": "white",
            "gridwidth": 2,
            "linecolor": "white",
            "showbackground": true,
            "ticks": "",
            "zerolinecolor": "white"
           }
          },
          "shapedefaults": {
           "line": {
            "color": "#2a3f5f"
           }
          },
          "ternary": {
           "aaxis": {
            "gridcolor": "white",
            "linecolor": "white",
            "ticks": ""
           },
           "baxis": {
            "gridcolor": "white",
            "linecolor": "white",
            "ticks": ""
           },
           "bgcolor": "#E5ECF6",
           "caxis": {
            "gridcolor": "white",
            "linecolor": "white",
            "ticks": ""
           }
          },
          "title": {
           "x": 0.05
          },
          "xaxis": {
           "automargin": true,
           "gridcolor": "white",
           "linecolor": "white",
           "ticks": "",
           "title": {
            "standoff": 15
           },
           "zerolinecolor": "white",
           "zerolinewidth": 2
          },
          "yaxis": {
           "automargin": true,
           "gridcolor": "white",
           "linecolor": "white",
           "ticks": "",
           "title": {
            "standoff": 15
           },
           "zerolinecolor": "white",
           "zerolinewidth": 2
          }
         }
        },
        "title": {
         "text": "Confusion Matrix of Final model"
        },
        "xaxis": {
         "dtick": 1,
         "gridcolor": "rgb(0, 0, 0)",
         "side": "top",
         "ticks": "",
         "title": {
          "text": "Predicted"
         }
        },
        "yaxis": {
         "dtick": 1,
         "ticks": "",
         "ticksuffix": "  ",
         "title": {
          "text": "True"
         }
        }
       }
      }
     },
     "metadata": {},
     "output_type": "display_data"
    }
   ],
   "source": [
    "# Plot confusion matrix\n",
    "fig = ff.create_annotated_heatmap(\n",
    "    z=conf_matrix, \n",
    "    x=[\"Predicted Non-5-stars\", \"Predicted 5-stars\"], \n",
    "    y=[\"Actual Non-5-stars\", \"Actual 5-stars\"],\n",
    "    annotation_text=conf_matrix.round(2).astype(str), \n",
    "    showscale=True\n",
    ")\n",
    "fig.update_layout(\n",
    "    title='Confusion Matrix of Final model', \n",
    "    xaxis=dict(title='Predicted'), \n",
    "    yaxis=dict(title='True')\n",
    ")\n",
    "fig.show()\n",
    "fig.write_html('final_model_cm.html', include_plotlyjs='cdn')"
   ]
  },
  {
   "cell_type": "code",
   "execution_count": 19,
   "metadata": {},
   "outputs": [
    {
     "data": {
      "text/html": [
       "<div>\n",
       "<style scoped>\n",
       "    .dataframe tbody tr th:only-of-type {\n",
       "        vertical-align: middle;\n",
       "    }\n",
       "\n",
       "    .dataframe tbody tr th {\n",
       "        vertical-align: top;\n",
       "    }\n",
       "\n",
       "    .dataframe thead th {\n",
       "        text-align: right;\n",
       "    }\n",
       "</style>\n",
       "<table border=\"1\" class=\"dataframe\">\n",
       "  <thead>\n",
       "    <tr style=\"text-align: right;\">\n",
       "      <th></th>\n",
       "      <th>mean_fit_time</th>\n",
       "      <th>std_fit_time</th>\n",
       "      <th>mean_score_time</th>\n",
       "      <th>std_score_time</th>\n",
       "      <th>param_classifier</th>\n",
       "      <th>param_classifier__C</th>\n",
       "      <th>params</th>\n",
       "      <th>split0_test_score</th>\n",
       "      <th>split1_test_score</th>\n",
       "      <th>split2_test_score</th>\n",
       "      <th>...</th>\n",
       "      <th>mean_test_score</th>\n",
       "      <th>std_test_score</th>\n",
       "      <th>rank_test_score</th>\n",
       "      <th>split0_train_score</th>\n",
       "      <th>split1_train_score</th>\n",
       "      <th>split2_train_score</th>\n",
       "      <th>split3_train_score</th>\n",
       "      <th>split4_train_score</th>\n",
       "      <th>mean_train_score</th>\n",
       "      <th>std_train_score</th>\n",
       "    </tr>\n",
       "  </thead>\n",
       "  <tbody>\n",
       "    <tr>\n",
       "      <th>0</th>\n",
       "      <td>40.383444</td>\n",
       "      <td>2.100888</td>\n",
       "      <td>11.466749</td>\n",
       "      <td>0.724745</td>\n",
       "      <td>LogisticRegression(C=1, class_weight='balanced...</td>\n",
       "      <td>0.1</td>\n",
       "      <td>{'classifier': LogisticRegression(C=1, class_w...</td>\n",
       "      <td>0.797643</td>\n",
       "      <td>0.799191</td>\n",
       "      <td>0.798683</td>\n",
       "      <td>...</td>\n",
       "      <td>0.798658</td>\n",
       "      <td>0.000615</td>\n",
       "      <td>4</td>\n",
       "      <td>0.811123</td>\n",
       "      <td>0.810444</td>\n",
       "      <td>0.810827</td>\n",
       "      <td>0.811487</td>\n",
       "      <td>0.811254</td>\n",
       "      <td>0.811027</td>\n",
       "      <td>0.000361</td>\n",
       "    </tr>\n",
       "    <tr>\n",
       "      <th>1</th>\n",
       "      <td>45.418624</td>\n",
       "      <td>1.345888</td>\n",
       "      <td>10.339384</td>\n",
       "      <td>0.842400</td>\n",
       "      <td>LogisticRegression(C=1, class_weight='balanced...</td>\n",
       "      <td>1</td>\n",
       "      <td>{'classifier': LogisticRegression(C=1, class_w...</td>\n",
       "      <td>0.808938</td>\n",
       "      <td>0.809788</td>\n",
       "      <td>0.808439</td>\n",
       "      <td>...</td>\n",
       "      <td>0.809425</td>\n",
       "      <td>0.000862</td>\n",
       "      <td>1</td>\n",
       "      <td>0.850153</td>\n",
       "      <td>0.848480</td>\n",
       "      <td>0.848718</td>\n",
       "      <td>0.849481</td>\n",
       "      <td>0.849147</td>\n",
       "      <td>0.849196</td>\n",
       "      <td>0.000590</td>\n",
       "    </tr>\n",
       "    <tr>\n",
       "      <th>2</th>\n",
       "      <td>53.531412</td>\n",
       "      <td>4.077415</td>\n",
       "      <td>9.985006</td>\n",
       "      <td>0.531006</td>\n",
       "      <td>LogisticRegression(C=1, class_weight='balanced...</td>\n",
       "      <td>5</td>\n",
       "      <td>{'classifier': LogisticRegression(C=1, class_w...</td>\n",
       "      <td>0.806923</td>\n",
       "      <td>0.808699</td>\n",
       "      <td>0.806159</td>\n",
       "      <td>...</td>\n",
       "      <td>0.807210</td>\n",
       "      <td>0.001116</td>\n",
       "      <td>2</td>\n",
       "      <td>0.884055</td>\n",
       "      <td>0.883423</td>\n",
       "      <td>0.884237</td>\n",
       "      <td>0.884524</td>\n",
       "      <td>0.883419</td>\n",
       "      <td>0.883932</td>\n",
       "      <td>0.000443</td>\n",
       "    </tr>\n",
       "    <tr>\n",
       "      <th>3</th>\n",
       "      <td>59.234007</td>\n",
       "      <td>3.634119</td>\n",
       "      <td>8.849408</td>\n",
       "      <td>0.461842</td>\n",
       "      <td>LogisticRegression(C=1, class_weight='balanced...</td>\n",
       "      <td>10</td>\n",
       "      <td>{'classifier': LogisticRegression(C=1, class_w...</td>\n",
       "      <td>0.803944</td>\n",
       "      <td>0.806346</td>\n",
       "      <td>0.804461</td>\n",
       "      <td>...</td>\n",
       "      <td>0.805063</td>\n",
       "      <td>0.001229</td>\n",
       "      <td>3</td>\n",
       "      <td>0.899749</td>\n",
       "      <td>0.898876</td>\n",
       "      <td>0.899875</td>\n",
       "      <td>0.900216</td>\n",
       "      <td>0.899345</td>\n",
       "      <td>0.899612</td>\n",
       "      <td>0.000462</td>\n",
       "    </tr>\n",
       "    <tr>\n",
       "      <th>4</th>\n",
       "      <td>56.105986</td>\n",
       "      <td>6.187466</td>\n",
       "      <td>6.532545</td>\n",
       "      <td>0.082371</td>\n",
       "      <td>LogisticRegression(C=1, class_weight='balanced...</td>\n",
       "      <td>50</td>\n",
       "      <td>{'classifier': LogisticRegression(C=1, class_w...</td>\n",
       "      <td>0.791877</td>\n",
       "      <td>0.796685</td>\n",
       "      <td>0.794231</td>\n",
       "      <td>...</td>\n",
       "      <td>0.794508</td>\n",
       "      <td>0.001604</td>\n",
       "      <td>5</td>\n",
       "      <td>0.930175</td>\n",
       "      <td>0.929507</td>\n",
       "      <td>0.930332</td>\n",
       "      <td>0.930237</td>\n",
       "      <td>0.929867</td>\n",
       "      <td>0.930024</td>\n",
       "      <td>0.000302</td>\n",
       "    </tr>\n",
       "  </tbody>\n",
       "</table>\n",
       "<p>5 rows × 22 columns</p>\n",
       "</div>"
      ],
      "text/plain": [
       "   mean_fit_time  std_fit_time  mean_score_time  std_score_time  \\\n",
       "0      40.383444      2.100888        11.466749        0.724745   \n",
       "1      45.418624      1.345888        10.339384        0.842400   \n",
       "2      53.531412      4.077415         9.985006        0.531006   \n",
       "3      59.234007      3.634119         8.849408        0.461842   \n",
       "4      56.105986      6.187466         6.532545        0.082371   \n",
       "\n",
       "                                    param_classifier param_classifier__C  \\\n",
       "0  LogisticRegression(C=1, class_weight='balanced...                 0.1   \n",
       "1  LogisticRegression(C=1, class_weight='balanced...                   1   \n",
       "2  LogisticRegression(C=1, class_weight='balanced...                   5   \n",
       "3  LogisticRegression(C=1, class_weight='balanced...                  10   \n",
       "4  LogisticRegression(C=1, class_weight='balanced...                  50   \n",
       "\n",
       "                                              params  split0_test_score  \\\n",
       "0  {'classifier': LogisticRegression(C=1, class_w...           0.797643   \n",
       "1  {'classifier': LogisticRegression(C=1, class_w...           0.808938   \n",
       "2  {'classifier': LogisticRegression(C=1, class_w...           0.806923   \n",
       "3  {'classifier': LogisticRegression(C=1, class_w...           0.803944   \n",
       "4  {'classifier': LogisticRegression(C=1, class_w...           0.791877   \n",
       "\n",
       "   split1_test_score  split2_test_score  ...  mean_test_score  std_test_score  \\\n",
       "0           0.799191           0.798683  ...         0.798658        0.000615   \n",
       "1           0.809788           0.808439  ...         0.809425        0.000862   \n",
       "2           0.808699           0.806159  ...         0.807210        0.001116   \n",
       "3           0.806346           0.804461  ...         0.805063        0.001229   \n",
       "4           0.796685           0.794231  ...         0.794508        0.001604   \n",
       "\n",
       "   rank_test_score  split0_train_score  split1_train_score  \\\n",
       "0                4            0.811123            0.810444   \n",
       "1                1            0.850153            0.848480   \n",
       "2                2            0.884055            0.883423   \n",
       "3                3            0.899749            0.898876   \n",
       "4                5            0.930175            0.929507   \n",
       "\n",
       "   split2_train_score  split3_train_score  split4_train_score  \\\n",
       "0            0.810827            0.811487            0.811254   \n",
       "1            0.848718            0.849481            0.849147   \n",
       "2            0.884237            0.884524            0.883419   \n",
       "3            0.899875            0.900216            0.899345   \n",
       "4            0.930332            0.930237            0.929867   \n",
       "\n",
       "   mean_train_score  std_train_score  \n",
       "0          0.811027         0.000361  \n",
       "1          0.849196         0.000590  \n",
       "2          0.883932         0.000443  \n",
       "3          0.899612         0.000462  \n",
       "4          0.930024         0.000302  \n",
       "\n",
       "[5 rows x 22 columns]"
      ]
     },
     "execution_count": 19,
     "metadata": {},
     "output_type": "execute_result"
    }
   ],
   "source": [
    "LR_results_df = pd.DataFrame(grid_search.cv_results_)\n",
    "LR_results_df.head()"
   ]
  },
  {
   "cell_type": "code",
   "execution_count": null,
   "metadata": {},
   "outputs": [],
   "source": []
  },
  {
   "cell_type": "markdown",
   "metadata": {},
   "source": [
    "### Other Models Explored"
   ]
  },
  {
   "cell_type": "code",
   "execution_count": 20,
   "metadata": {},
   "outputs": [
    {
     "name": "stdout",
     "output_type": "stream",
     "text": [
      "Fitting...\n",
      "Fitting 5 folds for each of 9 candidates, totalling 45 fits\n"
     ]
    },
    {
     "name": "stderr",
     "output_type": "stream",
     "text": [
      "/Users/leica/anaconda3/envs/dsc80/lib/python3.8/site-packages/joblib/externals/loky/process_executor.py:752: UserWarning:\n",
      "\n",
      "A worker stopped while some jobs were given to the executor. This can be caused by a too short worker timeout or by a memory leak.\n",
      "\n"
     ]
    },
    {
     "name": "stdout",
     "output_type": "stream",
     "text": [
      "Done.\n",
      "\n"
     ]
    }
   ],
   "source": [
    "### Gridsearch parameters for RF\n",
    "\n",
    "## Random Forest: plan to tune max_depth and n_estimators, because they control\n",
    "## the depth of each tree and the number of trees in the forest respectively.\n",
    "param_grid_RF = {\n",
    "    'classifier': [RandomForestClassifier(n_jobs=-1)],\n",
    "    'classifier__max_depth': [None, 10, 30],\n",
    "    'classifier__n_estimators': [10, 100, 200],\n",
    "}\n",
    "\n",
    "pipeline = Pipeline(steps=[\n",
    "    ('preprocess', preprocessor),\n",
    "    ('classifier', None)\n",
    "])\n",
    "\n",
    "grid_search = GridSearchCV(\n",
    "    pipeline, \n",
    "    param_grid_RF, \n",
    "    cv=5, \n",
    "    scoring='f1_weighted', \n",
    "    return_train_score=True, \n",
    "    n_jobs=-1, \n",
    "    verbose=1\n",
    "    )\n",
    "\n",
    "### Main block for fitting the gridsearch\n",
    "print(\"Fitting...\")\n",
    "grid_search.fit(X_train, y_train)\n",
    "print(\"Done.\\n\")\n",
    "\n",
    "RF_best_pipeline = grid_search.best_estimator_\n",
    "RF_best_param = grid_search.best_params_\n",
    "RF_train_acc, RF_test_acc = result(RF_best_pipeline)\n",
    "RF_train_f1, RF_test_f1, RF_train_pred, RF_test_pred = calculate_f1_score(RF_best_pipeline)"
   ]
  },
  {
   "cell_type": "code",
   "execution_count": 21,
   "metadata": {},
   "outputs": [
    {
     "name": "stdout",
     "output_type": "stream",
     "text": [
      "Results for Random Forest\n",
      "Training F1 Score: 0.9940058629716394\n",
      "Testing F1 Score: 0.753439642448923\n",
      "\n",
      "Training Classification Report:\n",
      "               precision    recall  f1-score   support\n",
      "\n",
      "           0       1.00      0.98      0.99     39645\n",
      "           1       0.99      1.00      1.00    135739\n",
      "\n",
      "    accuracy                           0.99    175384\n",
      "   macro avg       1.00      0.99      0.99    175384\n",
      "weighted avg       0.99      0.99      0.99    175384\n",
      "\n",
      "\n",
      "Testing Classification Report:\n",
      "               precision    recall  f1-score   support\n",
      "\n",
      "           0       0.64      0.23      0.33     10028\n",
      "           1       0.81      0.96      0.88     33819\n",
      "\n",
      "    accuracy                           0.79     43847\n",
      "   macro avg       0.72      0.59      0.61     43847\n",
      "weighted avg       0.77      0.79      0.75     43847\n",
      "\n",
      "Cross-Validated accuracy: 0.7548529958305067\n",
      "Best hyperparameters: {'classifier': RandomForestClassifier(n_estimators=10, n_jobs=-1), 'classifier__max_depth': None, 'classifier__n_estimators': 10}\n"
     ]
    }
   ],
   "source": [
    "# Print results for RF\n",
    "print(\"Results for Random Forest\")\n",
    "print(\"Training F1 Score:\", RF_train_f1)\n",
    "print('Testing F1 Score:', RF_test_f1)\n",
    "print(\"\\nTraining Classification Report:\\n\", classification_report(y_train, RF_train_pred))\n",
    "print(\"\\nTesting Classification Report:\\n\", classification_report(y_test, RF_test_pred))\n",
    "print('Cross-Validated accuracy:', grid_search.best_score_)\n",
    "print('Best hyperparameters:', RF_best_param)"
   ]
  },
  {
   "cell_type": "code",
   "execution_count": 22,
   "metadata": {},
   "outputs": [
    {
     "name": "stdout",
     "output_type": "stream",
     "text": [
      "Fitting...\n",
      "Fitting 5 folds for each of 9 candidates, totalling 45 fits\n",
      "Done.\n",
      "\n"
     ]
    }
   ],
   "source": [
    "### Gridsearch parameters for DT\n",
    "\n",
    "## Decision Tree: plan to tune max_depth and min_samples_split, because they could\n",
    "## contro model's complexity and improve generalizations to avoid overfitting.\n",
    "param_grid_DT = {\n",
    "    'classifier': [DecisionTreeClassifier()],\n",
    "    'classifier__max_depth': [None, 5, 10],\n",
    "    'classifier__min_samples_split': [2, 5, 10]  \n",
    "}\n",
    "\n",
    "pipeline = Pipeline(steps=[\n",
    "    ('preprocess', preprocessor),\n",
    "    ('classifier', None)\n",
    "])\n",
    "\n",
    "grid_search = GridSearchCV(\n",
    "    pipeline, \n",
    "    param_grid_DT, \n",
    "    cv=5, \n",
    "    scoring='f1_weighted', \n",
    "    return_train_score=True, \n",
    "    n_jobs=-1, \n",
    "    verbose=1\n",
    ")\n",
    "\n",
    "### Main block for fitting the gridsearch\n",
    "print(\"Fitting...\")\n",
    "grid_search.fit(X_train, y_train)\n",
    "print(\"Done.\\n\")\n",
    "\n",
    "DT_best_pipeline = grid_search.best_estimator_\n",
    "DT_best_param = grid_search.best_params_\n",
    "DT_train_f1, DT_test_f1, DT_train_pred, DT_test_pred = calculate_f1_score(DT_best_pipeline)"
   ]
  },
  {
   "cell_type": "code",
   "execution_count": 23,
   "metadata": {},
   "outputs": [
    {
     "name": "stdout",
     "output_type": "stream",
     "text": [
      "Results for Decision Tree\n",
      "Training F1 Score: 0.7901795829950458\n",
      "Testing F1 Score: 0.7672318514530839\n",
      "\n",
      "Training Classification Report:\n",
      "               precision    recall  f1-score   support\n",
      "\n",
      "           0       0.68      0.34      0.45     39645\n",
      "           1       0.83      0.95      0.89    135739\n",
      "\n",
      "    accuracy                           0.81    175384\n",
      "   macro avg       0.75      0.65      0.67    175384\n",
      "weighted avg       0.80      0.81      0.79    175384\n",
      "\n",
      "\n",
      "Testing Classification Report:\n",
      "               precision    recall  f1-score   support\n",
      "\n",
      "           0       0.60      0.30      0.40     10028\n",
      "           1       0.82      0.94      0.88     33819\n",
      "\n",
      "    accuracy                           0.79     43847\n",
      "   macro avg       0.71      0.62      0.64     43847\n",
      "weighted avg       0.77      0.79      0.77     43847\n",
      "\n",
      "Cross-Validated accuracy: 0.7618444331297837\n",
      "Best hyperparameters: {'classifier': DecisionTreeClassifier(max_depth=10), 'classifier__max_depth': 10, 'classifier__min_samples_split': 2}\n"
     ]
    }
   ],
   "source": [
    "# Print results of DT\n",
    "print(\"Results for Decision Tree\")\n",
    "print(\"Training F1 Score:\", DT_train_f1)\n",
    "print('Testing F1 Score:', DT_test_f1)\n",
    "print(\"\\nTraining Classification Report:\\n\", classification_report(y_train, DT_train_pred))\n",
    "print(\"\\nTesting Classification Report:\\n\", classification_report(y_test, DT_test_pred))\n",
    "print('Cross-Validated accuracy:', grid_search.best_score_)\n",
    "print('Best hyperparameters:', DT_best_param)"
   ]
  },
  {
   "cell_type": "markdown",
   "metadata": {},
   "source": [
    "### Fairness Analysis"
   ]
  },
  {
   "cell_type": "markdown",
   "metadata": {},
   "source": [
    "#### Permutation test: does our final model perform worse for individuals who have longer preparing minutes (more than median time) than it does for individuals who have shorter preparing minutes (less than median time)?\n",
    "- Two groups in this case:\n",
    "  - Individuals who have longer preparing minutes (more than median time)\n",
    "  - Individuals who have shorter preparing minutes (less than median time)\n",
    "- Null Hypothesis: Our final model is fair. Its f1-score for individuals who have longer preparing minutes and who have shorter preparing minutes are roughly the same, and any differences are due to random chance.\n",
    "- Alternative Hypothesis: Our final model is unfair. Its f1-score for individuals who have longer preparing minutes is lower than its f1-score for individuals who have shorter preparing minutes.\n",
    "- Test Statistic: Difference in f1-score between individuals who have longer preparing minutes and individuals who have shorter preparing minutes.\n",
    "- Significance Level: a = 0.05\n",
    "  - The significance level is a good choice because it is a common significance level that is used in hypothesis testing."
   ]
  },
  {
   "cell_type": "code",
   "execution_count": 24,
   "metadata": {},
   "outputs": [],
   "source": [
    "# binarizing the `minutes` column, longer => 1, shorter => 0\n",
    "threshold = X_test['minutes'].median()\n",
    "X_test['minute_group'] = X_test['minutes'].apply(lambda x: 1 if x >= threshold else 0)"
   ]
  },
  {
   "cell_type": "code",
   "execution_count": 25,
   "metadata": {},
   "outputs": [],
   "source": [
    "# Test statistic\n",
    "def f1_diff(label, group_labels, predictions):\n",
    "    f1_x = f1_score(label[group_labels == 1], predictions[group_labels == 1])\n",
    "    f1_y = f1_score(label[group_labels == 0], predictions[group_labels == 0])\n",
    "    return f1_x - f1_y # longer - shorter"
   ]
  },
  {
   "cell_type": "code",
   "execution_count": 26,
   "metadata": {},
   "outputs": [
    {
     "data": {
      "text/plain": [
       "-0.0030401952374990993"
      ]
     },
     "execution_count": 26,
     "metadata": {},
     "output_type": "execute_result"
    }
   ],
   "source": [
    "# observed difference\n",
    "predictions = LR_best_pipeline.predict(X_test)\n",
    "observed_diff = f1_diff(y_test, X_test['minute_group'], predictions)\n",
    "observed_diff"
   ]
  },
  {
   "cell_type": "code",
   "execution_count": 27,
   "metadata": {
    "ExecuteTime": {
     "end_time": "2019-10-31T23:36:28.666489Z",
     "start_time": "2019-10-31T23:36:28.664381Z"
    }
   },
   "outputs": [
    {
     "name": "stdout",
     "output_type": "stream",
     "text": [
      "P-value: 0.1517\n"
     ]
    }
   ],
   "source": [
    "# permutation test\n",
    "n_permutations = 10000\n",
    "differences = []\n",
    "\n",
    "for _ in range(n_permutations):\n",
    "    X_test['shuffled'] = np.random.permutation(X_test['minute_group'])\n",
    "    test_stat = f1_diff(y_test, X_test['shuffled'], predictions)\n",
    "    differences.append(test_stat)\n",
    "\n",
    "# if (longer_f1 - shorter_f1) <= observed_difference \n",
    "p_value = np.sum(differences <= observed_diff) / n_permutations\n",
    "print(\"P-value:\", p_value)"
   ]
  },
  {
   "cell_type": "code",
   "execution_count": 28,
   "metadata": {},
   "outputs": [],
   "source": [
    "# visualization\n",
    "fig = px.histogram(\n",
    "    pd.DataFrame(differences), x=0, nbins=100, histnorm='probability', \n",
    "    title='Empirical Distrib. Difference in F1 Score (Longer - Shorter')\n",
    "fig.add_vline(\n",
    "    x=observed_diff, \n",
    "    line_color='red', \n",
    "    annotation=dict(x=observed_diff, text=f'Observed Statistic = {observed_diff:.3f}'), \n",
    "    annotation_font_color='red')\n",
    "fig.write_html('fairness_analysis.html', include_plotlyjs='cdn')"
   ]
  },
  {
   "cell_type": "code",
   "execution_count": 29,
   "metadata": {},
   "outputs": [
    {
     "name": "stdout",
     "output_type": "stream",
     "text": [
      "Fail to reject the null hypothesis.\n"
     ]
    }
   ],
   "source": [
    "## Conclusion\n",
    "if p_value < 0.05:\n",
    "    print(\"Reject the null hypothesis.\")\n",
    "else:\n",
    "    print(\"Fail to reject the null hypothesis.\")"
   ]
  },
  {
   "cell_type": "code",
   "execution_count": null,
   "metadata": {},
   "outputs": [],
   "source": []
  }
 ],
 "metadata": {
  "kernelspec": {
   "display_name": "Python 3 (ipykernel)",
   "language": "python",
   "name": "python3"
  },
  "language_info": {
   "codemirror_mode": {
    "name": "ipython",
    "version": 3
   },
   "file_extension": ".py",
   "mimetype": "text/x-python",
   "name": "python",
   "nbconvert_exporter": "python",
   "pygments_lexer": "ipython3",
   "version": "3.11.5"
  }
 },
 "nbformat": 4,
 "nbformat_minor": 2
}
